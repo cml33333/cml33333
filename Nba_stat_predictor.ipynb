{
  "nbformat": 4,
  "nbformat_minor": 0,
  "metadata": {
    "colab": {
      "provenance": [],
      "authorship_tag": "ABX9TyPmRf+SIPy0SnAhiq2PkuJT",
      "include_colab_link": true
    },
    "kernelspec": {
      "name": "python3",
      "display_name": "Python 3"
    },
    "language_info": {
      "name": "python"
    }
  },
  "cells": [
    {
      "cell_type": "markdown",
      "metadata": {
        "id": "view-in-github",
        "colab_type": "text"
      },
      "source": [
        "<a href=\"https://colab.research.google.com/github/cml33333/cml33333/blob/main/Nba_stat_predictor.ipynb\" target=\"_parent\"><img src=\"https://colab.research.google.com/assets/colab-badge.svg\" alt=\"Open In Colab\"/></a>"
      ]
    },
    {
      "cell_type": "code",
      "source": [
        "!pip install nba_api\n",
        "#gets us data from nba"
      ],
      "metadata": {
        "id": "Td7C33zA7kW5",
        "colab": {
          "base_uri": "https://localhost:8080/"
        },
        "outputId": "757a3bfa-21e5-47f3-9e8f-f7570b86b4fa"
      },
      "execution_count": null,
      "outputs": [
        {
          "output_type": "stream",
          "name": "stdout",
          "text": [
            "Requirement already satisfied: nba_api in /usr/local/lib/python3.10/dist-packages (1.4.1)\n",
            "Requirement already satisfied: certifi<2024.0.0,>=2023.7.22 in /usr/local/lib/python3.10/dist-packages (from nba_api) (2023.11.17)\n",
            "Requirement already satisfied: numpy<2.0.0,>=1.22.2 in /usr/local/lib/python3.10/dist-packages (from nba_api) (1.25.2)\n",
            "Requirement already satisfied: requests<3.0,>=2.31 in /usr/local/lib/python3.10/dist-packages (from nba_api) (2.31.0)\n",
            "Requirement already satisfied: charset-normalizer<4,>=2 in /usr/local/lib/python3.10/dist-packages (from requests<3.0,>=2.31->nba_api) (3.3.2)\n",
            "Requirement already satisfied: idna<4,>=2.5 in /usr/local/lib/python3.10/dist-packages (from requests<3.0,>=2.31->nba_api) (3.6)\n",
            "Requirement already satisfied: urllib3<3,>=1.21.1 in /usr/local/lib/python3.10/dist-packages (from requests<3.0,>=2.31->nba_api) (2.0.7)\n"
          ]
        }
      ]
    },
    {
      "cell_type": "code",
      "execution_count": null,
      "metadata": {
        "id": "JRFH9-sH7g_O"
      },
      "outputs": [],
      "source": [
        "from nba_api.stats.static import players #gets us players from nba\n",
        "from nba_api.stats.endpoints import playergamelog, commonplayerinfo #gets us player game stats\n",
        "import pandas as pd\n",
        "\n",
        "from sklearn.model_selection import train_test_split\n",
        "from sklearn.ensemble import RandomForestClassifier\n",
        "from sklearn.preprocessing import OneHotEncoder"
      ]
    },
    {
      "cell_type": "code",
      "source": [
        "def get_player_id(player_name): #givena players name it will get us their id\n",
        "  player_d = players.get_players()\n",
        "  for p in player_d:\n",
        "    if p['full_name'].lower() == player_name.lower():\n",
        "      player = p\n",
        "  return player['id'] if player else None"
      ],
      "metadata": {
        "id": "FJ8_YEcw8V8T"
      },
      "execution_count": null,
      "outputs": []
    },
    {
      "cell_type": "code",
      "source": [
        "def get_player_year(player_id): # uses panada function to get year started\n",
        "  player_info = commonplayerinfo.CommonPlayerInfo(player_id = player_id)\n",
        "  carrer_start_year = player_info.get_data_frames()[0]['FROM_YEAR'][0]\n",
        "  return int(carrer_start_year)"
      ],
      "metadata": {
        "id": "Vy1MhNDI_zyR"
      },
      "execution_count": null,
      "outputs": []
    },
    {
      "cell_type": "code",
      "source": [
        "#interactive player selection\n",
        "player_name = input(\"Enter Nba Player name: \")\n",
        "player_id = get_player_id(player_name)\n",
        "year = get_player_year(player_id)"
      ],
      "metadata": {
        "colab": {
          "base_uri": "https://localhost:8080/"
        },
        "id": "pl1oV6YfBzvE",
        "outputId": "0aed46f1-68ab-442c-b2d9-82ec28a56e80"
      },
      "execution_count": null,
      "outputs": [
        {
          "name": "stdout",
          "output_type": "stream",
          "text": [
            "Enter Nba Player name: Kyrie Irving\n"
          ]
        }
      ]
    },
    {
      "cell_type": "code",
      "source": [
        "if player_id is None:\n",
        "  print(\"Player does not exist\")\n",
        "else:\n",
        "  start_year = get_player_year(player_id)\n",
        "  #Intializes empty data frame\n",
        "  all_seasons_data = pd.DataFrame()\n",
        "  #loop from start year to now to get data from everyseaon\n",
        "  for year in range(start_year,2024):\n",
        "    season_str = str(year) + '-' + str(year+1)[-2:]\n",
        "    gamelog = playergamelog.PlayerGameLog(player_id = player_id,season = season_str)\n",
        "    season_data = gamelog.get_data_frames()[0]\n",
        "    all_seasons_data = pd.concat([all_seasons_data, season_data], ignore_index=True)\n",
        "  all_seasons_data['OPPONENT_TEAM'] = all_seasons_data['MATCHUP'].apply(lambda x: x.split(' ')[-1])\n"
      ],
      "metadata": {
        "id": "rZW8Rz1kDjgF"
      },
      "execution_count": null,
      "outputs": []
    },
    {
      "cell_type": "code",
      "source": [
        "encoder = OneHotEncoder(sparse_output = False)\n",
        "opponent_team_encoded = encoder.fit_transform(all_seasons_data[['OPPONENT_TEAM']])\n",
        "\n",
        "opponent_team_df = pd.DataFrame(opponent_team_encoded, columns=encoder.get_feature_names_out(['OPPONENT_TEAM']))"
      ],
      "metadata": {
        "id": "NtcUe4Au_Gab"
      },
      "execution_count": null,
      "outputs": []
    },
    {
      "cell_type": "code",
      "source": [
        "df_encoded = all_seasons_data.join(opponent_team_df)\n",
        "feature_columns = [col for col in df_encoded.columns if 'OPPONENT_TEAM_' in col]\n",
        "\n",
        "score_threshold = float(input(\"Input player points prop: \"))\n",
        "X = df_encoded[feature_columns]\n",
        "Y = (df_encoded['PTS'] > score_threshold).astype(int)\n",
        "\n",
        "X_train, X_test, Y_train, Y_test = train_test_split(X,Y, test_size=0.2, random_state = 42)\n",
        "random_forest_model = RandomForestClassifier()\n",
        "random_forest_model.fit(X_train, Y_train)"
      ],
      "metadata": {
        "id": "IaWWZjp0Eryk",
        "colab": {
          "base_uri": "https://localhost:8080/",
          "height": 91
        },
        "outputId": "8a10f64b-f7c8-4c3e-8809-0d8189c9f553"
      },
      "execution_count": null,
      "outputs": [
        {
          "name": "stdout",
          "output_type": "stream",
          "text": [
            "Input player points prop: 26.5\n"
          ]
        },
        {
          "output_type": "execute_result",
          "data": {
            "text/plain": [
              "RandomForestClassifier()"
            ],
            "text/html": [
              "<style>#sk-container-id-1 {color: black;background-color: white;}#sk-container-id-1 pre{padding: 0;}#sk-container-id-1 div.sk-toggleable {background-color: white;}#sk-container-id-1 label.sk-toggleable__label {cursor: pointer;display: block;width: 100%;margin-bottom: 0;padding: 0.3em;box-sizing: border-box;text-align: center;}#sk-container-id-1 label.sk-toggleable__label-arrow:before {content: \"▸\";float: left;margin-right: 0.25em;color: #696969;}#sk-container-id-1 label.sk-toggleable__label-arrow:hover:before {color: black;}#sk-container-id-1 div.sk-estimator:hover label.sk-toggleable__label-arrow:before {color: black;}#sk-container-id-1 div.sk-toggleable__content {max-height: 0;max-width: 0;overflow: hidden;text-align: left;background-color: #f0f8ff;}#sk-container-id-1 div.sk-toggleable__content pre {margin: 0.2em;color: black;border-radius: 0.25em;background-color: #f0f8ff;}#sk-container-id-1 input.sk-toggleable__control:checked~div.sk-toggleable__content {max-height: 200px;max-width: 100%;overflow: auto;}#sk-container-id-1 input.sk-toggleable__control:checked~label.sk-toggleable__label-arrow:before {content: \"▾\";}#sk-container-id-1 div.sk-estimator input.sk-toggleable__control:checked~label.sk-toggleable__label {background-color: #d4ebff;}#sk-container-id-1 div.sk-label input.sk-toggleable__control:checked~label.sk-toggleable__label {background-color: #d4ebff;}#sk-container-id-1 input.sk-hidden--visually {border: 0;clip: rect(1px 1px 1px 1px);clip: rect(1px, 1px, 1px, 1px);height: 1px;margin: -1px;overflow: hidden;padding: 0;position: absolute;width: 1px;}#sk-container-id-1 div.sk-estimator {font-family: monospace;background-color: #f0f8ff;border: 1px dotted black;border-radius: 0.25em;box-sizing: border-box;margin-bottom: 0.5em;}#sk-container-id-1 div.sk-estimator:hover {background-color: #d4ebff;}#sk-container-id-1 div.sk-parallel-item::after {content: \"\";width: 100%;border-bottom: 1px solid gray;flex-grow: 1;}#sk-container-id-1 div.sk-label:hover label.sk-toggleable__label {background-color: #d4ebff;}#sk-container-id-1 div.sk-serial::before {content: \"\";position: absolute;border-left: 1px solid gray;box-sizing: border-box;top: 0;bottom: 0;left: 50%;z-index: 0;}#sk-container-id-1 div.sk-serial {display: flex;flex-direction: column;align-items: center;background-color: white;padding-right: 0.2em;padding-left: 0.2em;position: relative;}#sk-container-id-1 div.sk-item {position: relative;z-index: 1;}#sk-container-id-1 div.sk-parallel {display: flex;align-items: stretch;justify-content: center;background-color: white;position: relative;}#sk-container-id-1 div.sk-item::before, #sk-container-id-1 div.sk-parallel-item::before {content: \"\";position: absolute;border-left: 1px solid gray;box-sizing: border-box;top: 0;bottom: 0;left: 50%;z-index: -1;}#sk-container-id-1 div.sk-parallel-item {display: flex;flex-direction: column;z-index: 1;position: relative;background-color: white;}#sk-container-id-1 div.sk-parallel-item:first-child::after {align-self: flex-end;width: 50%;}#sk-container-id-1 div.sk-parallel-item:last-child::after {align-self: flex-start;width: 50%;}#sk-container-id-1 div.sk-parallel-item:only-child::after {width: 0;}#sk-container-id-1 div.sk-dashed-wrapped {border: 1px dashed gray;margin: 0 0.4em 0.5em 0.4em;box-sizing: border-box;padding-bottom: 0.4em;background-color: white;}#sk-container-id-1 div.sk-label label {font-family: monospace;font-weight: bold;display: inline-block;line-height: 1.2em;}#sk-container-id-1 div.sk-label-container {text-align: center;}#sk-container-id-1 div.sk-container {/* jupyter's `normalize.less` sets `[hidden] { display: none; }` but bootstrap.min.css set `[hidden] { display: none !important; }` so we also need the `!important` here to be able to override the default hidden behavior on the sphinx rendered scikit-learn.org. See: https://github.com/scikit-learn/scikit-learn/issues/21755 */display: inline-block !important;position: relative;}#sk-container-id-1 div.sk-text-repr-fallback {display: none;}</style><div id=\"sk-container-id-1\" class=\"sk-top-container\"><div class=\"sk-text-repr-fallback\"><pre>RandomForestClassifier()</pre><b>In a Jupyter environment, please rerun this cell to show the HTML representation or trust the notebook. <br />On GitHub, the HTML representation is unable to render, please try loading this page with nbviewer.org.</b></div><div class=\"sk-container\" hidden><div class=\"sk-item\"><div class=\"sk-estimator sk-toggleable\"><input class=\"sk-toggleable__control sk-hidden--visually\" id=\"sk-estimator-id-1\" type=\"checkbox\" checked><label for=\"sk-estimator-id-1\" class=\"sk-toggleable__label sk-toggleable__label-arrow\">RandomForestClassifier</label><div class=\"sk-toggleable__content\"><pre>RandomForestClassifier()</pre></div></div></div></div></div>"
            ]
          },
          "metadata": {},
          "execution_count": 8
        }
      ]
    },
    {
      "cell_type": "code",
      "source": [
        "opponent_team = input(\"Team they are playing against: \")\n",
        "input_data = pd.DataFrame(columns=feature_columns)\n",
        "input_data.loc[0,:] = 0\n",
        "input_data.loc[0, f'OPPONENT_TEAM_{opponent_team.upper()}']=1"
      ],
      "metadata": {
        "colab": {
          "base_uri": "https://localhost:8080/"
        },
        "id": "gAFFJlc0H3wD",
        "outputId": "7e553429-de81-4f9d-a8b5-3b895e23935a"
      },
      "execution_count": null,
      "outputs": [
        {
          "name": "stdout",
          "output_type": "stream",
          "text": [
            "Team they are playing against: PHI\n"
          ]
        }
      ]
    },
    {
      "cell_type": "code",
      "source": [
        "prediction = random_forest_model.predict(input_data)\n",
        "prediction_propability = random_forest_model.predict_proba(input_data)\n",
        "\n",
        "prediction_result = \"Yes\" if prediction[0] == 1 else \"No\"\n",
        "probability = prediction_propability[0][prediction[0]]\n",
        "print(f\"Prediction: {prediction_result}, Probability: {probability*100}\")"
      ],
      "metadata": {
        "colab": {
          "base_uri": "https://localhost:8080/"
        },
        "id": "jXvLN1ICI08Q",
        "outputId": "8b01c33b-6dce-4754-d2a5-3e6eae978058"
      },
      "execution_count": null,
      "outputs": [
        {
          "output_type": "stream",
          "name": "stdout",
          "text": [
            "Prediction: No, Probability: 71.69369221278393\n"
          ]
        }
      ]
    }
  ]
}